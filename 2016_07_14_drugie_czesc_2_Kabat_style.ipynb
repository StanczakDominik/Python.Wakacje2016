{
 "cells": [
  {
   "cell_type": "code",
   "execution_count": 2,
   "metadata": {
    "collapsed": true
   },
   "outputs": [],
   "source": [
    "import matplotlib.pyplot as plt\n",
    "import numpy as np\n",
    "from matplotlib import animation\n",
    "import scipy.integrate as integrate"
   ]
  },
  {
   "cell_type": "code",
   "execution_count": 3,
   "metadata": {
    "collapsed": false
   },
   "outputs": [],
   "source": [
    "t = 1\n",
    "fig, ax = plt.subplots()\n",
    "\n",
    "theta = np.linspace(0, 2*np.pi, 1000)\n",
    "glowa_x = np.cos(theta)\n",
    "glowa_y = np.sin(theta)\n",
    "\n",
    "grzywka_x_1 = np.linspace(-0.3,0.3,1000)\n",
    "grzywka_y_1 = np.linspace(0.95,0.7,1000)\n",
    "grzywka_x_2 = np.linspace(0.3,0.4,1000)\n",
    "grzywka_y_2 = np.linspace(0.7,0.9,1000)\n",
    "\n",
    "oko_x = glowa_x / 7\n",
    "oko_y = glowa_y/7 + 0.3\n",
    "\n",
    "zrenica_x = glowa_x / 100\n",
    "zrenica_y = glowa_y / 100 + 0.3\n",
    "\n",
    "wasy_x = np.linspace(-0.1,0.1,1000)\n",
    "wasy_y = -0.1*np.ones(1000)*np.cos(5*t)-0.2\n",
    "wasy = plt.plot(wasy_x,wasy_y,\"k-\",linewidth=30)[0]\n",
    "\n",
    "nos_x_1 = np.linspace(-0.2,0.1,1000)\n",
    "nos_y_1 = np.linspace(0,0.4,1000)\n",
    "nos_x_2 = np.linspace(-0.2,0,1000)\n",
    "nos_y_2 = -0.01*np.ones(1000)\n",
    "\n",
    "usmiech_x = np.linspace(-0.4,0.4,1000)\n",
    "usmiech_y = -0.4 + t*(usmiech_x)**2\n",
    "usmiech = plt.plot(usmiech_x,usmiech_y, \"k-\", linewidth=5)[0]\n",
    "\n",
    "plt.plot(glowa_x,glowa_y,\"k-\",linewidth=5)\n",
    "plt.plot(oko_x-0.4,oko_y,\"k-\",linewidth=5)\n",
    "plt.plot(oko_x+0.4,oko_y,\"k-\",linewidth=5)\n",
    "#plt.plot(usmiech_x,usmiech_y,\"k-\",linewidth=5)\n",
    "#plt.plot(wasy_x,wasy_y,\"k-\",linewidth=20)\n",
    "plt.plot(grzywka_x_1,grzywka_y_1,\"k-\",linewidth=5)\n",
    "plt.plot(grzywka_x_2,grzywka_y_2,\"k-\",linewidth=5)\n",
    "plt.plot(zrenica_x-0.4,zrenica_y,\"k-\",linewidth=5)\n",
    "plt.plot(zrenica_x+0.4,zrenica_y,\"k-\",linewidth=5)\n",
    "plt.plot(nos_x_1,nos_y_1,\"k-\",linewidth=5)\n",
    "plt.plot(nos_x_2,nos_y_2,\"k-\",linewidth=5)\n",
    "plt.xlim(-2,2)\n",
    "plt.ylim(-2,2)\n",
    "\n",
    "def animate(t):\n",
    "    usmiech_y = -0.6 + t*(usmiech_x)**2\n",
    "    usmiech.set_data(usmiech_x,usmiech_y)\n",
    "    wasy_y = -0.1*np.ones(1000)*np.cos(2*t)-0.2\n",
    "    wasy.set_data(wasy_x,wasy_y)\n",
    "    return [usmiech],[wasy]\n",
    "\n",
    "czas = np.cos(np.linspace(0, 2*np.pi, 120))\n",
    "ani = animation.FuncAnimation(fig, animate, frames = czas, interval=1)\n",
    "plt.show()"
   ]
  },
  {
   "cell_type": "markdown",
   "metadata": {},
   "source": [
    "# Lorenz"
   ]
  },
  {
   "cell_type": "code",
   "execution_count": 4,
   "metadata": {
    "collapsed": false
   },
   "outputs": [],
   "source": [
    "def pochodna(y,x):\n",
    "    return y\n",
    "\n",
    "y_0 = 1\n",
    "x = np.linspace(0,10,1000)\n",
    "y = integrate.odeint(pochodna,y_0,x)\n",
    "plt.plot(x,y)\n",
    "plt.show()"
   ]
  },
  {
   "cell_type": "markdown",
   "metadata": {},
   "source": [
    "$$ \\dot{y} = f(y(x),x) $$"
   ]
  },
  {
   "cell_type": "code",
   "execution_count": 5,
   "metadata": {
    "collapsed": false
   },
   "outputs": [],
   "source": [
    "from mpl_toolkits.mplot3d import Axes3D\n",
    "\n",
    "sigma = 10\n",
    "beta = 8/3\n",
    "rho = 28\n",
    "\n",
    "r0 = np.array([-0.2,-0.5,-0.6])\n",
    "r1 = np.array([0.3,0.4,0.5])\n",
    "t = np.linspace(0,100,100000)\n",
    "\n",
    "def lorenz(r, t):\n",
    "    x, y, z = r\n",
    "    xdot = sigma*(y-x)\n",
    "    ydot = x*(rho-z)-y\n",
    "    zdot = x*y - beta*z\n",
    "    return np.array([xdot,ydot,zdot])\n",
    "\n",
    "r = integrate.odeint(lorenz,r0,t)\n",
    "x, y, z = r.T\n",
    "\n",
    "x2, y2, z2 = integrate.odeint(lorenz,r1,t).T\n",
    "fig = plt.figure()\n",
    "ax = fig.add_subplot(111,projection = '3d')\n",
    "ax.plot(x,y,z,\"b-\",alpha = 0.5)\n",
    "ax.plot(x2,y2,z2,\"r-\",alpha = 0.5)\n",
    "plt.show()"
   ]
  },
  {
   "cell_type": "code",
   "execution_count": 6,
   "metadata": {
    "collapsed": false
   },
   "outputs": [],
   "source": [
    "fig = plt.figure()\n",
    "ax = fig.add_subplot(111,projection = '3d')\n",
    "linia1, = ax.plot(x[:0],y[:0],z[:0],\"b-\",alpha = 0.5)\n",
    "kulka1, = ax.plot(x[0:1],y[0:1],z[0:1],\"bo\",alpha=0.5)\n",
    "linia2, = ax.plot(x2[:0],y2[:0],z2[:0],\"r-\",alpha = 0.5)\n",
    "kulka2, = ax.plot(x2[0:1],y2[0:1],z2[0:1],\"ro\",alpha=0.5)\n",
    "#ax.plot(x2,y2,z2,\"r-\",alpha = 0.5)\n",
    "\n",
    "def animate(i):\n",
    "    linia1.set_data(x[:i+1],y[:i+1])\n",
    "    linia1.set_3d_properties(z[:i+1])\n",
    "    \n",
    "    kulka1.set_data(x[i:i+1],y[i:i+1])\n",
    "    kulka1.set_3d_properties(z[i:i+1])\n",
    "    \n",
    "    linia2.set_data(x2[:i+1],y2[:i+1])\n",
    "    linia2.set_3d_properties(z2[:i+1])\n",
    "    \n",
    "    kulka2.set_data(x2[i:i+1],y2[i:i+1])\n",
    "    kulka2.set_3d_properties(z2[i:i+1])\n",
    "    \n",
    "    return [linia1, kulka1, linia2, kulka2]\n",
    "\n",
    "ax.set_xlim(x.min(),x.max())\n",
    "ax.set_ylim(y.min(),y.max())\n",
    "ax.set_zlim(z.min(),z.max())\n",
    "\n",
    "anim = animation.FuncAnimation(fig, animate, frames=np.arange(0,len(x),25), interval=1)\n",
    "\n",
    "plt.show()"
   ]
  },
  {
   "cell_type": "code",
   "execution_count": null,
   "metadata": {
    "collapsed": true
   },
   "outputs": [],
   "source": []
  }
 ],
 "metadata": {
  "kernelspec": {
   "display_name": "Python 3",
   "language": "python",
   "name": "python3"
  },
  "language_info": {
   "codemirror_mode": {
    "name": "ipython",
    "version": 3
   },
   "file_extension": ".py",
   "mimetype": "text/x-python",
   "name": "python",
   "nbconvert_exporter": "python",
   "pygments_lexer": "ipython3",
   "version": "3.5.1"
  }
 },
 "nbformat": 4,
 "nbformat_minor": 0
}
