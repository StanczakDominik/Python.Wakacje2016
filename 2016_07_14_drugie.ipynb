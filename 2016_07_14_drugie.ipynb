{
 "cells": [
  {
   "cell_type": "markdown",
   "metadata": {},
   "source": [
    "`jupyter notebook`"
   ]
  },
  {
   "cell_type": "markdown",
   "metadata": {},
   "source": [
    "# Matplotlib, tylko bardziej"
   ]
  },
  {
   "cell_type": "code",
   "execution_count": 5,
   "metadata": {
    "collapsed": true
   },
   "outputs": [],
   "source": [
    "import matplotlib.pyplot as plt\n",
    "import numpy as np\n",
    "import scipy.optimize as opt\n",
    "%matplotlib inline\n",
    "\n",
    "def gauss(x, A, std, mean):\n",
    "    \"\"\"funkcja zwracająca gaussiana\n",
    "    A: amplituda\n",
    "    std: odchylenie (grubość)\n",
    "    mean: środek na x\"\"\"\n",
    "    return A * np.exp(-(x-mean)**2 / (2 * std**2))"
   ]
  },
  {
   "cell_type": "code",
   "execution_count": 6,
   "metadata": {
    "collapsed": false
   },
   "outputs": [
    {
     "name": "stdout",
     "output_type": "stream",
     "text": [
      "[ 608.40399029    3.00707559   41.967188  ]\n"
     ]
    },
    {
     "data": {
      "image/png": "[encoded data removed]",
      "text/plain": [
       "<matplotlib.figure.Figure at 0x7f457c161a90>"
      ]
     },
     "metadata": {},
     "output_type": "display_data"
    }
   ],
   "source": [
    "losowe = np.random.normal(loc = 42, scale=3, size=(10000,))\n",
    "# plt.hist?\n",
    "\n",
    "fig, (oś1, oś2) = plt.subplots(2, figsize=(10, 8), sharex=True)\n",
    "histogram = oś1.hist(losowe, bins=50)\n",
    "y = histogram[0]\n",
    "krawedzie = histogram[1]\n",
    "srodki = (krawedzie[0:-1] + krawedzie[1:])/2\n",
    "oś2.set_xlabel(\"x\")\n",
    "oś1.set_ylabel(\"n\")\n",
    "oś1.set_title(\"histogram\")\n",
    "oś1.grid()\n",
    "oś2.plot(srodki, y, label=\"histogram jako linia\")\n",
    "\n",
    "\n",
    "parametry, kowariancje = opt.curve_fit(gauss, srodki, y, p0=[500, 5, 42])\n",
    "plt.plot(srodki, gauss(srodki, *parametry), lw=6, label=\"fit\")\n",
    "print(parametry)\n",
    "oś2.legend()\n",
    "oś2.grid()\n",
    "# opt.curve_fit?"
   ]
  },
  {
   "cell_type": "code",
   "execution_count": 7,
   "metadata": {
    "collapsed": false
   },
   "outputs": [
    {
     "name": "stdout",
     "output_type": "stream",
     "text": [
      "<function amin at 0x7f45a414a6a8> 0\n",
      "<function amax at 0x7f45a414a620> 9\n",
      "<function mean at 0x7f45a414ab70> 4.5\n",
      "<function std at 0x7f45a414abf8> 2.87228132327\n"
     ]
    }
   ],
   "source": [
    "A = np.arange(10)\n",
    "for funkcja in [np.min, np.max, np.mean, np.std]:\n",
    "    print(funkcja, funkcja(A))"
   ]
  },
  {
   "cell_type": "code",
   "execution_count": 9,
   "metadata": {
    "collapsed": false,
    "scrolled": true
   },
   "outputs": [
    {
     "name": "stdout",
     "output_type": "stream",
     "text": [
      "litwo\n",
      "ojczyzno moja\n",
      "ty cośtam cośtam\n"
     ]
    }
   ],
   "source": [
    "#multiline string\n",
    "testowy_string = \"\"\"litwo\n",
    "ojczyzno moja\n",
    "ty cośtam cośtam\"\"\"\n",
    "print(testowy_string)\n",
    "\n",
    "\n",
    "def funkcja():\n",
    "    \"\"\"to jest dokumentacja\"\"\"\n",
    "    return 42\n",
    "funkcja?"
   ]
  },
  {
   "cell_type": "code",
   "execution_count": 13,
   "metadata": {
    "collapsed": false
   },
   "outputs": [],
   "source": [
    "theta = np.linspace(0, 2*np.pi, 1000)\n",
    "glowa_x = np.cos(theta)\n",
    "glowa_y = np.sin(theta)\n",
    "\n",
    "oko_x = glowa_x / 7\n",
    "oko_y = glowa_y / 7 + 0.5\n",
    "\n",
    "\n",
    "t = 1\n",
    "fig, ax = plt.subplots()   #ZMIANA\n",
    "usmiech_x = np.linspace(-0.5, 0.5, 100)\n",
    "usmiech_y = -0.5 + t*(usmiech_x)**2 # t od -1 do +1: t = np.cos(theta)\n",
    "plt.plot(glowa_x, glowa_y, \"k-\")\n",
    "plt.plot(oko_x - 0.4, oko_y, \"k-\")\n",
    "plt.plot(oko_x + 0.4, oko_y, \"k-\")\n",
    "usmiech = plt.plot(usmiech_x, usmiech_y, \"k-\")[0]\n",
    "plt.xlim(-2, 2)\n",
    "plt.ylim(-2, 2)\n",
    "\n",
    "def animate(t):\n",
    "    usmiech_y = -0.5 + t * (usmiech_x)**2\n",
    "    usmiech.set_data(usmiech_x, usmiech_y)\n",
    "    return [usmiech]\n",
    "\n",
    "from matplotlib import animation\n",
    "%matplotlib qt\n",
    "czas = np.cos(np.linspace(0, 2*np.pi, 120))\n",
    "ani = animation.FuncAnimation(fig, animate, frames = czas, interval=1)\n",
    "plt.show()"
   ]
  }
 ],
 "metadata": {
  "anaconda-cloud": {},
  "kernelspec": {
   "display_name": "Python 3",
   "language": "python",
   "name": "python3"
  },
  "language_info": {
   "codemirror_mode": {
    "name": "ipython",
    "version": 3
   },
   "file_extension": ".py",
   "mimetype": "text/x-python",
   "name": "python",
   "nbconvert_exporter": "python",
   "pygments_lexer": "ipython3",
   "version": "3.5.1"
  }
 },
 "nbformat": 4,
 "nbformat_minor": 0
}
