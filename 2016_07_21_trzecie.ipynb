{
 "cells": [
  {
   "cell_type": "markdown",
   "metadata": {},
   "source": [
    "# Sympy"
   ]
  },
  {
   "cell_type": "code",
   "execution_count": 1,
   "metadata": {
    "collapsed": false,
    "scrolled": false
   },
   "outputs": [],
   "source": [
    "import sympy as sp\n",
    "sp.init_printing()\n",
    "# x = sp.symbols('x')\n",
    "# sp.sin(x**3*sp.pi)"
   ]
  },
  {
   "cell_type": "markdown",
   "metadata": {},
   "source": [
    "$$ L = T - V$$\n",
    "kinetyczna - potencjalna energia"
   ]
  },
  {
   "cell_type": "markdown",
   "metadata": {},
   "source": [
    "$$ x^2 + y^2 = z^2 $$\n",
    "w tekście można inline $\\pi$ koniec zdania"
   ]
  },
  {
   "cell_type": "markdown",
   "metadata": {},
   "source": [
    "$$ \\frac{\\partial L}{\\partial q_i} - \\frac{d}{dt} \\frac{d L}{d \\dot{q}_i} = 0 $$"
   ]
  },
  {
   "cell_type": "markdown",
   "metadata": {},
   "source": [
    "$$ T = \\frac{1}{2} m (\\dot{x_1}^2 + \\dot {x_2}^2  + \\dot {y_1}^2  + \\dot {y_2}^2 ) $$"
   ]
  },
  {
   "cell_type": "markdown",
   "metadata": {},
   "source": [
    "$$ V = m g y_1 + m g y_2 = mg(y_1 + y_2)$$"
   ]
  },
  {
   "cell_type": "code",
   "execution_count": 2,
   "metadata": {
    "collapsed": false
   },
   "outputs": [],
   "source": [
    "m, g, L, t = sp.symbols('m g L t', positive = True)\n",
    "theta1 = sp.Function('theta1')(t)\n",
    "theta2 = sp.Function('theta2')(t)\n",
    "\n",
    "x1 = L * sp.sin(theta1)\n",
    "y1 = -L * sp.cos(theta1)\n",
    "\n",
    "x2 = L * sp.sin(theta2) + x1\n",
    "y2 = -L * sp.cos(theta2) + y1\n",
    "\n",
    "T = 0.5 * m *  sum(x.diff(t)**2 for x in [x1, y1, x2, y2])\n",
    "T = T.simplify()\n",
    "\n",
    "V = m * g * (y1 + y2)\n",
    "\n",
    "omega1 = sp.Function('omega1')(t)\n",
    "omega2 = sp.Function('omega2')(t)\n",
    "\n",
    "Lagrange = (T - V).subs({theta1.diff(t):omega1, theta2.diff(t):omega2})"
   ]
  },
  {
   "cell_type": "markdown",
   "metadata": {},
   "source": [
    "$$ \\frac{\\partial L}{\\partial q_i} - \\frac{d}{dt} \\frac{d L}{d \\dot{q}_i} = 0 $$"
   ]
  },
  {
   "cell_type": "code",
   "execution_count": 3,
   "metadata": {
    "collapsed": false
   },
   "outputs": [],
   "source": [
    "EL_equations = [sp.Eq(Lagrange.diff(theta),\n",
    "                      Lagrange.diff(omega).diff(t).subs(\n",
    "                        {theta1.diff(t):omega1, theta2.diff(t):omega2}))\n",
    "                for theta, omega in [[theta1, omega1], [theta2, omega2]]]"
   ]
  },
  {
   "cell_type": "code",
   "execution_count": 4,
   "metadata": {
    "collapsed": false
   },
   "outputs": [],
   "source": [
    "solution = sp.solve(EL_equations, omega1.diff(t), omega2.diff(t))"
   ]
  },
  {
   "cell_type": "code",
   "execution_count": 5,
   "metadata": {
    "collapsed": false
   },
   "outputs": [],
   "source": [
    "import numpy as np \n",
    "v1 = sp.lambdify((theta1, theta2, omega1, omega2, L, g),\n",
    "            solution[omega1.diff(t)], 'numpy')\n",
    "v2 = sp.lambdify((theta1, theta2, omega1, omega2, L, g),\n",
    "            solution[omega2.diff(t)], 'numpy')"
   ]
  },
  {
   "cell_type": "code",
   "execution_count": 13,
   "metadata": {
    "collapsed": false
   },
   "outputs": [],
   "source": [
    "from scipy.integrate import odeint\n",
    "L = 1\n",
    "g = 9.81\n",
    "def f(r, t):\n",
    "    theta1, theta2, omega1, omega2 = r\n",
    "    return np.array([omega1,\n",
    "                     omega2,\n",
    "                     v1(theta1, theta2, omega1, omega2, L, g),\n",
    "                     v2(theta1, theta2, omega1, omega2, L, g),\n",
    "                    ])\n",
    "\n",
    "r = np.array([np.pi/2, np.pi/2, np.pi, 0])\n",
    "t = np.linspace(0, 10, 1000)\n",
    "r_array = odeint(f, r, t)\n",
    "theta1 = r_array[:, 0]\n",
    "theta2 = r_array[:, 1]\n",
    "\n",
    "x1 = L * np.sin(theta1)\n",
    "y1 = -L * np.cos(theta1)\n",
    "\n",
    "x2 = L * np.sin(theta2) + x1\n",
    "y2 = -L * np.cos(theta2) + y1\n",
    "\n",
    "\n",
    "import matplotlib.pyplot as plt\n",
    "from matplotlib import animation, rc\n",
    "# %matplotlib inline\n",
    "# rc('animation', html='html5')\n",
    "# plt.plot(t, theta1)\n",
    "# plt.plot(t, theta2)\n",
    "# plt.figure()\n",
    "# plt.plot(x1, y1)\n",
    "# plt.plot(x2, y2)\n",
    "# plt.show()\n"
   ]
  },
  {
   "cell_type": "code",
   "execution_count": 12,
   "metadata": {
    "collapsed": false
   },
   "outputs": [],
   "source": [
    "fig, axes = plt.subplots()\n",
    "i = 0\n",
    "axes.set_xlim(-2*L, 2*L)\n",
    "axes.set_ylim(-2*L, 2*L)\n",
    "wahadlo, = axes.plot([0, x1[i], x2[i]], [0, y1[i], y2[i]], \"ko-\")\n",
    "linia2, = axes.plot(x2[:i+1], y2[:i+1], \"bo\", alpha=0.5, lw=0)\n",
    "def animate(i):\n",
    "    wahadlo.set_data([0, x1[i], x2[i]], [0, y1[i], y2[i]])\n",
    "    linia2.set_data(x2[:i+1], y2[:i+1])\n",
    "    return [wahadlo, linia2]\n",
    "\n",
    "anim = animation.FuncAnimation(fig, animate, len(t), interval=5)\n",
    "plt.show()"
   ]
  },
  {
   "cell_type": "code",
   "execution_count": 8,
   "metadata": {
    "collapsed": false
   },
   "outputs": [
    {
     "data": {
      "image/png": "[encoded data removed]",
      "text/latex": [
       "$$9$$"
      ],
      "text/plain": [
       "9"
      ]
     },
     "execution_count": 8,
     "metadata": {},
     "output_type": "execute_result"
    }
   ],
   "source": [
    "# def f(x):\n",
    "#     return x**2\n",
    "\n",
    "f = lambda x: x**2\n",
    "f(3)"
   ]
  },
  {
   "cell_type": "code",
   "execution_count": 16,
   "metadata": {
    "collapsed": false
   },
   "outputs": [],
   "source": [
    "plt.plot(t, (theta2+np.pi/2)//np.pi)\n",
    "plt.show()"
   ]
  },
  {
   "cell_type": "markdown",
   "metadata": {},
   "source": [
    "# Pandas"
   ]
  },
  {
   "cell_type": "code",
   "execution_count": 57,
   "metadata": {
    "collapsed": false
   },
   "outputs": [
    {
     "data": {
      "text/html": [
       "<div>\n",
       "<table border=\"1\" class=\"dataframe\">\n",
       "  <thead>\n",
       "    <tr style=\"text-align: right;\">\n",
       "      <th></th>\n",
       "      <th>theta1</th>\n",
       "      <th>theta2</th>\n",
       "      <th>x2</th>\n",
       "      <th>y2</th>\n",
       "    </tr>\n",
       "  </thead>\n",
       "  <tbody>\n",
       "    <tr>\n",
       "      <th>0.00000</th>\n",
       "      <td>1.570796</td>\n",
       "      <td>1.570796</td>\n",
       "      <td>2.000000</td>\n",
       "      <td>-1.224647e-16</td>\n",
       "    </tr>\n",
       "    <tr>\n",
       "      <th>0.01001</th>\n",
       "      <td>1.601747</td>\n",
       "      <td>1.570806</td>\n",
       "      <td>1.999521</td>\n",
       "      <td>3.095589e-02</td>\n",
       "    </tr>\n",
       "    <tr>\n",
       "      <th>0.02002</th>\n",
       "      <td>1.631689</td>\n",
       "      <td>1.570870</td>\n",
       "      <td>1.998147</td>\n",
       "      <td>6.092880e-02</td>\n",
       "    </tr>\n",
       "    <tr>\n",
       "      <th>0.03003</th>\n",
       "      <td>1.660601</td>\n",
       "      <td>1.571031</td>\n",
       "      <td>1.995970</td>\n",
       "      <td>8.991869e-02</td>\n",
       "    </tr>\n",
       "    <tr>\n",
       "      <th>0.04004</th>\n",
       "      <td>1.688471</td>\n",
       "      <td>1.571318</td>\n",
       "      <td>1.993084</td>\n",
       "      <td>1.179254e-01</td>\n",
       "    </tr>\n",
       "    <tr>\n",
       "      <th>0.05005</th>\n",
       "      <td>1.715293</td>\n",
       "      <td>1.571751</td>\n",
       "      <td>1.989578</td>\n",
       "      <td>1.449489e-01</td>\n",
       "    </tr>\n",
       "    <tr>\n",
       "      <th>0.06006</th>\n",
       "      <td>1.741067</td>\n",
       "      <td>1.572336</td>\n",
       "      <td>1.985538</td>\n",
       "      <td>1.709889e-01</td>\n",
       "    </tr>\n",
       "    <tr>\n",
       "      <th>0.07007</th>\n",
       "      <td>1.765796</td>\n",
       "      <td>1.573075</td>\n",
       "      <td>1.981045</td>\n",
       "      <td>1.960452e-01</td>\n",
       "    </tr>\n",
       "    <tr>\n",
       "      <th>0.08008</th>\n",
       "      <td>1.789489</td>\n",
       "      <td>1.573960</td>\n",
       "      <td>1.976177</td>\n",
       "      <td>2.201177e-01</td>\n",
       "    </tr>\n",
       "    <tr>\n",
       "      <th>0.09009</th>\n",
       "      <td>1.812158</td>\n",
       "      <td>1.574978</td>\n",
       "      <td>1.971005</td>\n",
       "      <td>2.432063e-01</td>\n",
       "    </tr>\n",
       "    <tr>\n",
       "      <th>0.10010</th>\n",
       "      <td>1.833817</td>\n",
       "      <td>1.576109</td>\n",
       "      <td>1.965595</td>\n",
       "      <td>2.653109e-01</td>\n",
       "    </tr>\n",
       "    <tr>\n",
       "      <th>0.11011</th>\n",
       "      <td>1.854482</td>\n",
       "      <td>1.577332</td>\n",
       "      <td>1.960009</td>\n",
       "      <td>2.864317e-01</td>\n",
       "    </tr>\n",
       "    <tr>\n",
       "      <th>0.12012</th>\n",
       "      <td>1.874171</td>\n",
       "      <td>1.578623</td>\n",
       "      <td>1.954303</td>\n",
       "      <td>3.065687e-01</td>\n",
       "    </tr>\n",
       "    <tr>\n",
       "      <th>0.13013</th>\n",
       "      <td>1.892902</td>\n",
       "      <td>1.579954</td>\n",
       "      <td>1.948529</td>\n",
       "      <td>3.257222e-01</td>\n",
       "    </tr>\n",
       "    <tr>\n",
       "      <th>0.14014</th>\n",
       "      <td>1.910694</td>\n",
       "      <td>1.581298</td>\n",
       "      <td>1.942734</td>\n",
       "      <td>3.438926e-01</td>\n",
       "    </tr>\n",
       "    <tr>\n",
       "      <th>0.15015</th>\n",
       "      <td>1.927566</td>\n",
       "      <td>1.582627</td>\n",
       "      <td>1.936960</td>\n",
       "      <td>3.610803e-01</td>\n",
       "    </tr>\n",
       "    <tr>\n",
       "      <th>0.16016</th>\n",
       "      <td>1.943538</td>\n",
       "      <td>1.583912</td>\n",
       "      <td>1.931246</td>\n",
       "      <td>3.772857e-01</td>\n",
       "    </tr>\n",
       "    <tr>\n",
       "      <th>0.17017</th>\n",
       "      <td>1.958629</td>\n",
       "      <td>1.585124</td>\n",
       "      <td>1.925628</td>\n",
       "      <td>3.925094e-01</td>\n",
       "    </tr>\n",
       "    <tr>\n",
       "      <th>0.18018</th>\n",
       "      <td>1.972855</td>\n",
       "      <td>1.586235</td>\n",
       "      <td>1.920138</td>\n",
       "      <td>4.067519e-01</td>\n",
       "    </tr>\n",
       "    <tr>\n",
       "      <th>0.19019</th>\n",
       "      <td>1.986236</td>\n",
       "      <td>1.587218</td>\n",
       "      <td>1.914804</td>\n",
       "      <td>4.200139e-01</td>\n",
       "    </tr>\n",
       "    <tr>\n",
       "      <th>0.20020</th>\n",
       "      <td>1.998789</td>\n",
       "      <td>1.588048</td>\n",
       "      <td>1.909652</td>\n",
       "      <td>4.322960e-01</td>\n",
       "    </tr>\n",
       "    <tr>\n",
       "      <th>0.21021</th>\n",
       "      <td>2.010529</td>\n",
       "      <td>1.588698</td>\n",
       "      <td>1.904705</td>\n",
       "      <td>4.435986e-01</td>\n",
       "    </tr>\n",
       "    <tr>\n",
       "      <th>0.22022</th>\n",
       "      <td>2.021473</td>\n",
       "      <td>1.589145</td>\n",
       "      <td>1.899984</td>\n",
       "      <td>4.539223e-01</td>\n",
       "    </tr>\n",
       "    <tr>\n",
       "      <th>0.23023</th>\n",
       "      <td>2.031634</td>\n",
       "      <td>1.589367</td>\n",
       "      <td>1.895508</td>\n",
       "      <td>4.632675e-01</td>\n",
       "    </tr>\n",
       "    <tr>\n",
       "      <th>0.24024</th>\n",
       "      <td>2.041026</td>\n",
       "      <td>1.589341</td>\n",
       "      <td>1.891292</td>\n",
       "      <td>4.716346e-01</td>\n",
       "    </tr>\n",
       "    <tr>\n",
       "      <th>0.25025</th>\n",
       "      <td>2.049661</td>\n",
       "      <td>1.589049</td>\n",
       "      <td>1.887352</td>\n",
       "      <td>4.790238e-01</td>\n",
       "    </tr>\n",
       "    <tr>\n",
       "      <th>0.26026</th>\n",
       "      <td>2.057553</td>\n",
       "      <td>1.588471</td>\n",
       "      <td>1.883699</td>\n",
       "      <td>4.854353e-01</td>\n",
       "    </tr>\n",
       "    <tr>\n",
       "      <th>0.27027</th>\n",
       "      <td>2.064710</td>\n",
       "      <td>1.587591</td>\n",
       "      <td>1.880343</td>\n",
       "      <td>4.908691e-01</td>\n",
       "    </tr>\n",
       "    <tr>\n",
       "      <th>0.28028</th>\n",
       "      <td>2.071142</td>\n",
       "      <td>1.586393</td>\n",
       "      <td>1.877295</td>\n",
       "      <td>4.953250e-01</td>\n",
       "    </tr>\n",
       "    <tr>\n",
       "      <th>0.29029</th>\n",
       "      <td>2.076859</td>\n",
       "      <td>1.584863</td>\n",
       "      <td>1.874561</td>\n",
       "      <td>4.988029e-01</td>\n",
       "    </tr>\n",
       "    <tr>\n",
       "      <th>...</th>\n",
       "      <td>...</td>\n",
       "      <td>...</td>\n",
       "      <td>...</td>\n",
       "      <td>...</td>\n",
       "    </tr>\n",
       "    <tr>\n",
       "      <th>9.70971</th>\n",
       "      <td>0.819635</td>\n",
       "      <td>1.317962</td>\n",
       "      <td>1.699104</td>\n",
       "      <td>-9.326377e-01</td>\n",
       "    </tr>\n",
       "    <tr>\n",
       "      <th>9.71972</th>\n",
       "      <td>0.862663</td>\n",
       "      <td>1.333015</td>\n",
       "      <td>1.731440</td>\n",
       "      <td>-8.859643e-01</td>\n",
       "    </tr>\n",
       "    <tr>\n",
       "      <th>9.72973</th>\n",
       "      <td>0.905857</td>\n",
       "      <td>1.346123</td>\n",
       "      <td>1.761821</td>\n",
       "      <td>-8.397995e-01</td>\n",
       "    </tr>\n",
       "    <tr>\n",
       "      <th>9.73974</th>\n",
       "      <td>0.949138</td>\n",
       "      <td>1.357397</td>\n",
       "      <td>1.790231</td>\n",
       "      <td>-7.941669e-01</td>\n",
       "    </tr>\n",
       "    <tr>\n",
       "      <th>9.74975</th>\n",
       "      <td>0.992428</td>\n",
       "      <td>1.366960</td>\n",
       "      <td>1.816653</td>\n",
       "      <td>-7.490864e-01</td>\n",
       "    </tr>\n",
       "    <tr>\n",
       "      <th>9.75976</th>\n",
       "      <td>1.035642</td>\n",
       "      <td>1.374946</td>\n",
       "      <td>1.841072</td>\n",
       "      <td>-7.045746e-01</td>\n",
       "    </tr>\n",
       "    <tr>\n",
       "      <th>9.76977</th>\n",
       "      <td>1.078694</td>\n",
       "      <td>1.381502</td>\n",
       "      <td>1.863479</td>\n",
       "      <td>-6.606461e-01</td>\n",
       "    </tr>\n",
       "    <tr>\n",
       "      <th>9.77978</th>\n",
       "      <td>1.121492</td>\n",
       "      <td>1.386785</td>\n",
       "      <td>1.883867</td>\n",
       "      <td>-6.173138e-01</td>\n",
       "    </tr>\n",
       "    <tr>\n",
       "      <th>9.78979</th>\n",
       "      <td>1.163941</td>\n",
       "      <td>1.390962</td>\n",
       "      <td>1.902243</td>\n",
       "      <td>-5.745897e-01</td>\n",
       "    </tr>\n",
       "    <tr>\n",
       "      <th>9.79980</th>\n",
       "      <td>1.205944</td>\n",
       "      <td>1.394205</td>\n",
       "      <td>1.918625</td>\n",
       "      <td>-5.324858e-01</td>\n",
       "    </tr>\n",
       "    <tr>\n",
       "      <th>9.80981</th>\n",
       "      <td>1.247402</td>\n",
       "      <td>1.396690</td>\n",
       "      <td>1.933044</td>\n",
       "      <td>-4.910145e-01</td>\n",
       "    </tr>\n",
       "    <tr>\n",
       "      <th>9.81982</th>\n",
       "      <td>1.288218</td>\n",
       "      <td>1.398590</td>\n",
       "      <td>1.945549</td>\n",
       "      <td>-4.501893e-01</td>\n",
       "    </tr>\n",
       "    <tr>\n",
       "      <th>9.82983</th>\n",
       "      <td>1.328297</td>\n",
       "      <td>1.400072</td>\n",
       "      <td>1.956203</td>\n",
       "      <td>-4.100252e-01</td>\n",
       "    </tr>\n",
       "    <tr>\n",
       "      <th>9.83984</th>\n",
       "      <td>1.367552</td>\n",
       "      <td>1.401295</td>\n",
       "      <td>1.965086</td>\n",
       "      <td>-3.705385e-01</td>\n",
       "    </tr>\n",
       "    <tr>\n",
       "      <th>9.84985</th>\n",
       "      <td>1.405903</td>\n",
       "      <td>1.402401</td>\n",
       "      <td>1.972291</td>\n",
       "      <td>-3.317477e-01</td>\n",
       "    </tr>\n",
       "    <tr>\n",
       "      <th>9.85986</th>\n",
       "      <td>1.443279</td>\n",
       "      <td>1.403517</td>\n",
       "      <td>1.977922</td>\n",
       "      <td>-2.936722e-01</td>\n",
       "    </tr>\n",
       "    <tr>\n",
       "      <th>9.86987</th>\n",
       "      <td>1.479622</td>\n",
       "      <td>1.404749</td>\n",
       "      <td>1.982092</td>\n",
       "      <td>-2.563330e-01</td>\n",
       "    </tr>\n",
       "    <tr>\n",
       "      <th>9.87988</th>\n",
       "      <td>1.514886</td>\n",
       "      <td>1.406184</td>\n",
       "      <td>1.984919</td>\n",
       "      <td>-2.197517e-01</td>\n",
       "    </tr>\n",
       "    <tr>\n",
       "      <th>9.88989</th>\n",
       "      <td>1.549034</td>\n",
       "      <td>1.407887</td>\n",
       "      <td>1.986523</td>\n",
       "      <td>-1.839500e-01</td>\n",
       "    </tr>\n",
       "    <tr>\n",
       "      <th>9.89990</th>\n",
       "      <td>1.582043</td>\n",
       "      <td>1.409907</td>\n",
       "      <td>1.987022</td>\n",
       "      <td>-1.489498e-01</td>\n",
       "    </tr>\n",
       "    <tr>\n",
       "      <th>9.90991</th>\n",
       "      <td>1.613898</td>\n",
       "      <td>1.412272</td>\n",
       "      <td>1.986533</td>\n",
       "      <td>-1.147721e-01</td>\n",
       "    </tr>\n",
       "    <tr>\n",
       "      <th>9.91992</th>\n",
       "      <td>1.644595</td>\n",
       "      <td>1.414998</td>\n",
       "      <td>1.985166</td>\n",
       "      <td>-8.143720e-02</td>\n",
       "    </tr>\n",
       "    <tr>\n",
       "      <th>9.92993</th>\n",
       "      <td>1.674133</td>\n",
       "      <td>1.418086</td>\n",
       "      <td>1.983028</td>\n",
       "      <td>-4.896396e-02</td>\n",
       "    </tr>\n",
       "    <tr>\n",
       "      <th>9.93994</th>\n",
       "      <td>1.702523</td>\n",
       "      <td>1.421527</td>\n",
       "      <td>1.980217</td>\n",
       "      <td>-1.737007e-02</td>\n",
       "    </tr>\n",
       "    <tr>\n",
       "      <th>9.94995</th>\n",
       "      <td>1.729775</td>\n",
       "      <td>1.425302</td>\n",
       "      <td>1.976824</td>\n",
       "      <td>1.332832e-02</td>\n",
       "    </tr>\n",
       "    <tr>\n",
       "      <th>9.95996</th>\n",
       "      <td>1.755906</td>\n",
       "      <td>1.429388</td>\n",
       "      <td>1.972934</td>\n",
       "      <td>4.311659e-02</td>\n",
       "    </tr>\n",
       "    <tr>\n",
       "      <th>9.96997</th>\n",
       "      <td>1.780936</td>\n",
       "      <td>1.433753</td>\n",
       "      <td>1.968626</td>\n",
       "      <td>7.198158e-02</td>\n",
       "    </tr>\n",
       "    <tr>\n",
       "      <th>9.97998</th>\n",
       "      <td>1.804885</td>\n",
       "      <td>1.438364</td>\n",
       "      <td>1.963970</td>\n",
       "      <td>9.991162e-02</td>\n",
       "    </tr>\n",
       "    <tr>\n",
       "      <th>9.98999</th>\n",
       "      <td>1.827776</td>\n",
       "      <td>1.443186</td>\n",
       "      <td>1.959031</td>\n",
       "      <td>1.268964e-01</td>\n",
       "    </tr>\n",
       "    <tr>\n",
       "      <th>10.00000</th>\n",
       "      <td>1.849633</td>\n",
       "      <td>1.448179</td>\n",
       "      <td>1.953868</td>\n",
       "      <td>1.529269e-01</td>\n",
       "    </tr>\n",
       "  </tbody>\n",
       "</table>\n",
       "<p>1000 rows × 4 columns</p>\n",
       "</div>"
      ],
      "text/plain": [
       "            theta1    theta2        x2            y2\n",
       "0.00000   1.570796  1.570796  2.000000 -1.224647e-16\n",
       "0.01001   1.601747  1.570806  1.999521  3.095589e-02\n",
       "0.02002   1.631689  1.570870  1.998147  6.092880e-02\n",
       "0.03003   1.660601  1.571031  1.995970  8.991869e-02\n",
       "0.04004   1.688471  1.571318  1.993084  1.179254e-01\n",
       "0.05005   1.715293  1.571751  1.989578  1.449489e-01\n",
       "0.06006   1.741067  1.572336  1.985538  1.709889e-01\n",
       "0.07007   1.765796  1.573075  1.981045  1.960452e-01\n",
       "0.08008   1.789489  1.573960  1.976177  2.201177e-01\n",
       "0.09009   1.812158  1.574978  1.971005  2.432063e-01\n",
       "0.10010   1.833817  1.576109  1.965595  2.653109e-01\n",
       "0.11011   1.854482  1.577332  1.960009  2.864317e-01\n",
       "0.12012   1.874171  1.578623  1.954303  3.065687e-01\n",
       "0.13013   1.892902  1.579954  1.948529  3.257222e-01\n",
       "0.14014   1.910694  1.581298  1.942734  3.438926e-01\n",
       "0.15015   1.927566  1.582627  1.936960  3.610803e-01\n",
       "0.16016   1.943538  1.583912  1.931246  3.772857e-01\n",
       "0.17017   1.958629  1.585124  1.925628  3.925094e-01\n",
       "0.18018   1.972855  1.586235  1.920138  4.067519e-01\n",
       "0.19019   1.986236  1.587218  1.914804  4.200139e-01\n",
       "0.20020   1.998789  1.588048  1.909652  4.322960e-01\n",
       "0.21021   2.010529  1.588698  1.904705  4.435986e-01\n",
       "0.22022   2.021473  1.589145  1.899984  4.539223e-01\n",
       "0.23023   2.031634  1.589367  1.895508  4.632675e-01\n",
       "0.24024   2.041026  1.589341  1.891292  4.716346e-01\n",
       "0.25025   2.049661  1.589049  1.887352  4.790238e-01\n",
       "0.26026   2.057553  1.588471  1.883699  4.854353e-01\n",
       "0.27027   2.064710  1.587591  1.880343  4.908691e-01\n",
       "0.28028   2.071142  1.586393  1.877295  4.953250e-01\n",
       "0.29029   2.076859  1.584863  1.874561  4.988029e-01\n",
       "...            ...       ...       ...           ...\n",
       "9.70971   0.819635  1.317962  1.699104 -9.326377e-01\n",
       "9.71972   0.862663  1.333015  1.731440 -8.859643e-01\n",
       "9.72973   0.905857  1.346123  1.761821 -8.397995e-01\n",
       "9.73974   0.949138  1.357397  1.790231 -7.941669e-01\n",
       "9.74975   0.992428  1.366960  1.816653 -7.490864e-01\n",
       "9.75976   1.035642  1.374946  1.841072 -7.045746e-01\n",
       "9.76977   1.078694  1.381502  1.863479 -6.606461e-01\n",
       "9.77978   1.121492  1.386785  1.883867 -6.173138e-01\n",
       "9.78979   1.163941  1.390962  1.902243 -5.745897e-01\n",
       "9.79980   1.205944  1.394205  1.918625 -5.324858e-01\n",
       "9.80981   1.247402  1.396690  1.933044 -4.910145e-01\n",
       "9.81982   1.288218  1.398590  1.945549 -4.501893e-01\n",
       "9.82983   1.328297  1.400072  1.956203 -4.100252e-01\n",
       "9.83984   1.367552  1.401295  1.965086 -3.705385e-01\n",
       "9.84985   1.405903  1.402401  1.972291 -3.317477e-01\n",
       "9.85986   1.443279  1.403517  1.977922 -2.936722e-01\n",
       "9.86987   1.479622  1.404749  1.982092 -2.563330e-01\n",
       "9.87988   1.514886  1.406184  1.984919 -2.197517e-01\n",
       "9.88989   1.549034  1.407887  1.986523 -1.839500e-01\n",
       "9.89990   1.582043  1.409907  1.987022 -1.489498e-01\n",
       "9.90991   1.613898  1.412272  1.986533 -1.147721e-01\n",
       "9.91992   1.644595  1.414998  1.985166 -8.143720e-02\n",
       "9.92993   1.674133  1.418086  1.983028 -4.896396e-02\n",
       "9.93994   1.702523  1.421527  1.980217 -1.737007e-02\n",
       "9.94995   1.729775  1.425302  1.976824  1.332832e-02\n",
       "9.95996   1.755906  1.429388  1.972934  4.311659e-02\n",
       "9.96997   1.780936  1.433753  1.968626  7.198158e-02\n",
       "9.97998   1.804885  1.438364  1.963970  9.991162e-02\n",
       "9.98999   1.827776  1.443186  1.959031  1.268964e-01\n",
       "10.00000  1.849633  1.448179  1.953868  1.529269e-01\n",
       "\n",
       "[1000 rows x 4 columns]"
      ]
     },
     "execution_count": 57,
     "metadata": {},
     "output_type": "execute_result"
    }
   ],
   "source": [
    "import pandas as pd\n",
    "# pd.DataFrame?\n",
    "dane = pd.DataFrame(index=t, data=\n",
    "                    {\"theta1\":theta1, \"theta2\":theta2, \"x2\":x2, \"y2\":y2})\n",
    "np.save(\"dane.dat\", theta1)\n",
    "dane\n",
    "#(theta1\n",
    "# pd?"
   ]
  },
  {
   "cell_type": "code",
   "execution_count": 53,
   "metadata": {
    "collapsed": false
   },
   "outputs": [
    {
     "name": "stdout",
     "output_type": "stream",
     "text": [
      "1 loop, best of 3: 156 ms per loop\n"
     ]
    }
   ],
   "source": [
    "%%timeit\n",
    "np.loadtxt(\"dane.csv\");"
   ]
  },
  {
   "cell_type": "code",
   "execution_count": 54,
   "metadata": {
    "collapsed": false
   },
   "outputs": [
    {
     "name": "stdout",
     "output_type": "stream",
     "text": [
      "100 loops, best of 3: 7.09 ms per loop\n"
     ]
    }
   ],
   "source": [
    "%%timeit\n",
    "pd.read_csv('dane.csv');"
   ]
  },
  {
   "cell_type": "code",
   "execution_count": 83,
   "metadata": {
    "collapsed": false
   },
   "outputs": [
    {
     "data": {
      "image/png": "[encoded data removed]",
      "text/plain": [
       "<matplotlib.figure.Figure at 0xa5eaaeec>"
      ]
     },
     "metadata": {},
     "output_type": "display_data"
    }
   ],
   "source": [
    "%matplotlib inline\n",
    "import scipy.fftpack as fft\n",
    "t = np.linspace(0, 10, 1001)\n",
    "x = 3*np.sin(2*np.pi*t) + np.sin(3*2*np.pi*t)\n",
    "plt.plot(t, x)\n",
    "# x_fft = fft.fft?"
   ]
  },
  {
   "cell_type": "code",
   "execution_count": 95,
   "metadata": {
    "collapsed": false
   },
   "outputs": [
    {
     "data": {
      "image/png": "[encoded data removed]",
      "text/latex": [
       "$$\\left ( 0, \\quad 10\\right )$$"
      ],
      "text/plain": [
       "(0, 10)"
      ]
     },
     "execution_count": 95,
     "metadata": {},
     "output_type": "execute_result"
    },
    {
     "data": {
      "image/png": "[encoded data removed]",
      "text/plain": [
       "<matplotlib.figure.Figure at 0xa5cdcb8c>"
      ]
     },
     "metadata": {},
     "output_type": "display_data"
    }
   ],
   "source": [
    "x_fft = fft.rfft(x)/len(x)*2\n",
    "# fft.fft?\n",
    "fft_freq =fft.rfftfreq(len(x), d=t[1]-t[0])\n",
    "\n",
    "plt.plot(fft_freq, x_fft)\n",
    "plt.xlim(0, 10)"
   ]
  },
  {
   "cell_type": "code",
   "execution_count": 97,
   "metadata": {
    "collapsed": false
   },
   "outputs": [
    {
     "data": {
      "text/plain": [
       "[<matplotlib.lines.Line2D at 0xa5bd88ac>]"
      ]
     },
     "execution_count": 97,
     "metadata": {},
     "output_type": "execute_result"
    },
    {
     "data": {
      "image/png": "[encoded data removed]",
      "text/plain": [
       "<matplotlib.figure.Figure at 0xa5ff4eac>"
      ]
     },
     "metadata": {},
     "output_type": "display_data"
    }
   ],
   "source": [
    "x = np.linspace(0, np.pi, 1000) #siatka\n",
    "rho = np.zeros(1000)\n",
    "rho[500]=1/(x[1]-x[0])\n",
    "plt.plot(x, rho)\n"
   ]
  },
  {
   "cell_type": "markdown",
   "metadata": {},
   "source": [
    "$$\\nabla^2 \\psi \\sim \\rho$$"
   ]
  },
  {
   "cell_type": "markdown",
   "metadata": {},
   "source": [
    "$$-k^2 \\psi_F \\sim \\rho_F$$"
   ]
  }
 ],
 "metadata": {
  "anaconda-cloud": {},
  "kernelspec": {
   "display_name": "Python 3",
   "language": "python",
   "name": "python3"
  },
  "language_info": {
   "codemirror_mode": {
    "name": "ipython",
    "version": 3
   },
   "file_extension": ".py",
   "mimetype": "text/x-python",
   "name": "python",
   "nbconvert_exporter": "python",
   "pygments_lexer": "ipython3",
   "version": "3.5.1"
  }
 },
 "nbformat": 4,
 "nbformat_minor": 0
}
