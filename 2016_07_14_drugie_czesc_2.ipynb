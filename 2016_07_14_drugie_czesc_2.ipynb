{
 "cells": [
  {
   "cell_type": "code",
   "execution_count": 1,
   "metadata": {
    "collapsed": false
   },
   "outputs": [],
   "source": [
    "import numpy as np\n",
    "import matplotlib.pyplot as plt\n",
    "from matplotlib import animation\n",
    "\n",
    "theta = np.linspace(0, 2*np.pi, 1000)\n",
    "glowa_x = np.cos(theta)\n",
    "glowa_y = np.sin(theta)\n",
    "\n",
    "oko_x = glowa_x / 7\n",
    "oko_y = glowa_y / 7 + 0.5\n",
    "\n",
    "\n",
    "t = 1\n",
    "fig, ax = plt.subplots()   #ZMIANA\n",
    "usmiech_x = np.linspace(-0.5, 0.5, 20)\n",
    "usmiech_y = -0.5 + t*(usmiech_x)**2 # t od -1 do +1: t = np.cos(theta)\n",
    "plt.plot(glowa_x, glowa_y, \"k-\")\n",
    "plt.plot(oko_x - 0.4, oko_y, \"k-\")\n",
    "plt.plot(oko_x + 0.4, oko_y, \"k-\")\n",
    "usmiech = plt.plot(usmiech_x, usmiech_y, \"k-\")[0]\n",
    "plt.xlim(-2, 2)\n",
    "plt.ylim(-2, 2)\n",
    "\n",
    "def animate(t):\n",
    "    usmiech_y = -0.5 + t * (usmiech_x)**2\n",
    "    usmiech.set_data(usmiech_x, usmiech_y)\n",
    "    return [usmiech]\n",
    "\n",
    "czas = np.cos(np.linspace(0, 2*np.pi, 30))\n",
    "ani = animation.FuncAnimation(fig, animate, frames = czas, interval=1)\n",
    "# ani.save(\"animacja.mp4\")\n",
    "plt.show()"
   ]
  },
  {
   "cell_type": "markdown",
   "metadata": {},
   "source": [
    "$$ \\dot{y} = f(y(x), x) $$"
   ]
  },
  {
   "cell_type": "code",
   "execution_count": 2,
   "metadata": {
    "collapsed": false
   },
   "outputs": [],
   "source": [
    "import scipy.integrate as integrate\n",
    "\n",
    "def pochodna(y, t):\n",
    "    return y\n",
    "\n",
    "y_0 = 1\n",
    "x = np.linspace(0, 10, 1000)\n",
    "# integrate.odeint?\n",
    "y = integrate.odeint(pochodna, y_0, x)[:, 0]\n",
    "y.shape\n",
    "plt.plot(x, y)\n",
    "plt.show()"
   ]
  },
  {
   "cell_type": "markdown",
   "metadata": {},
   "source": [
    "# Równania Lorenza\n",
    "(nie mylić z Lorentzem)\n",
    "(Dla zainteresowanych: twierdzenie Lorenza-Lorentza)\n",
    "\n",
    "$$\\dot{x} = \\sigma (y - x)$$\n",
    "$$\\dot{y} = x (\\rho - z) - y$$\n",
    "$$\\dot{z} = xy - \\beta z$$\n",
    "\n",
    "Tradycyjnie $\\sigma = 10$, $\\beta = 8/3$, $\\rho = 28$."
   ]
  },
  {
   "cell_type": "code",
   "execution_count": 5,
   "metadata": {
    "collapsed": false
   },
   "outputs": [],
   "source": [
    "from mpl_toolkits.mplot3d import Axes3D\n",
    "\n",
    "sigma = 10\n",
    "beta = 8/3\n",
    "rho = 28\n",
    "\n",
    "# r = [x, y, z]\n",
    "r0 = np.array([0.3, 0.4, 0.5])\n",
    "r1 = np.array([0.3, 0.4, 0.51]) #nówka sztuka\n",
    "t = np.linspace(0, 200, 10000)\n",
    "\n",
    "def lorenz(r, t):\n",
    "    x, y, z = r\n",
    "    xdot = sigma*(y-x)\n",
    "    ydot = x*(rho-z)-y\n",
    "    zdot = x*y - beta*z\n",
    "    return np.array([xdot, ydot, zdot])\n",
    "\n",
    "r = integrate.odeint(lorenz, r0, t)\n",
    "x, y, z = r.T\n",
    "\n",
    "x2, y2, z2 = integrate.odeint(lorenz, r1, t).T #nowe\n",
    "\n",
    "fig = plt.figure()\n",
    "ax = fig.add_subplot(111, projection='3d')\n",
    "ax.plot(x,y,z, \"b-\", alpha=0.5)\n",
    "ax.plot(x2, y2, z2, \"r-\", alpha=0.5) #nowe\n",
    "plt.show()"
   ]
  },
  {
   "cell_type": "code",
   "execution_count": 7,
   "metadata": {
    "collapsed": false
   },
   "outputs": [],
   "source": [
    "fig = plt.figure()\n",
    "ax = fig.add_subplot(111, projection='3d')\n",
    "linia1, = ax.plot(x[:0],y[:0],z[:0], \"b-\", alpha=0.5)\n",
    "kulka1, = ax.plot(x[0:1], y[0:1], z[0:1], \"bo\", alpha=0.5)\n",
    "linia2, = ax.plot(x2[:0],y2[:0],z2[:0], \"r-\", alpha=0.5)\n",
    "kulka2, = ax.plot(x2[0:1], y2[0:1], z2[0:1], \"ro\", alpha=0.5)\n",
    "\n",
    "def animate(i):\n",
    "    linia1.set_data(x[:i+1],y[:i+1])\n",
    "    linia1.set_3d_properties(z[:i+1])\n",
    "    \n",
    "    kulka1.set_data(x[i:i+1],y[i:i+1])\n",
    "    kulka1.set_3d_properties(z[i:i+1])\n",
    "    \n",
    "    linia2.set_data(x2[:i+1],y2[:i+1])\n",
    "    linia2.set_3d_properties(z2[:i+1])\n",
    "    \n",
    "    kulka2.set_data(x2[i:i+1],y2[i:i+1])\n",
    "    kulka2.set_3d_properties(z2[i:i+1])\n",
    "    return [linia1, kulka1, linia2, kulka2]\n",
    "\n",
    "ax.set_xlim(x.min(), x.max())\n",
    "ax.set_ylim(y.min(), y.max())\n",
    "ax.set_zlim(z.min(), z.max())\n",
    "from matplotlib import animation\n",
    "anim = animation.FuncAnimation(fig, animate, frames=np.arange(0, len(x), 1), interval=1)\n",
    "plt.show()"
   ]
  }
 ],
 "metadata": {
  "kernelspec": {
   "display_name": "Python 3",
   "language": "python",
   "name": "python3"
  },
  "language_info": {
   "codemirror_mode": {
    "name": "ipython",
    "version": 3
   },
   "file_extension": ".py",
   "mimetype": "text/x-python",
   "name": "python",
   "nbconvert_exporter": "python",
   "pygments_lexer": "ipython3",
   "version": "3.5.1"
  }
 },
 "nbformat": 4,
 "nbformat_minor": 0
}
